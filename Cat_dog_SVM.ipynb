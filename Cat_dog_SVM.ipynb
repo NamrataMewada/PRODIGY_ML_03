{
 "cells": [
  {
   "cell_type": "code",
   "execution_count": 1,
   "metadata": {
    "id": "NzHCo63qqtow"
   },
   "outputs": [],
   "source": [
    "import os\n",
    "import numpy as np\n",
    "from sklearn.svm import SVC\n",
    "from sklearn.metrics import classification_report, confusion_matrix\n",
    "import matplotlib.pyplot as plt\n",
    "from tqdm import tqdm\n",
    "import joblib\n",
    "from sklearn.model_selection import GridSearchCV\n",
    "import cv2\n",
    "import seaborn as sns\n",
    "import time\n",
    "from sklearn.decomposition import PCA\n",
    "from sklearn.pipeline import Pipeline\n",
    "from sklearn.model_selection import train_test_split"
   ]
  },
  {
   "cell_type": "code",
   "execution_count": 4,
   "metadata": {
    "scrolled": true
   },
   "outputs": [
    {
     "name": "stdout",
     "output_type": "stream",
     "text": [
      "Collecting opendatasets\n",
      "  Downloading opendatasets-0.1.22-py3-none-any.whl.metadata (9.2 kB)\n",
      "Requirement already satisfied: tqdm in c:\\users\\dhruvi\\nmenv\\lib\\site-packages (from opendatasets) (4.65.0)\n",
      "Collecting kaggle (from opendatasets)\n",
      "  Downloading kaggle-1.6.17.tar.gz (82 kB)\n",
      "     ---------------------------------------- 0.0/82.7 kB ? eta -:--:--\n",
      "     ---------------------------------------- 82.7/82.7 kB 4.5 MB/s eta 0:00:00\n",
      "  Preparing metadata (setup.py): started\n",
      "  Preparing metadata (setup.py): finished with status 'done'\n",
      "Requirement already satisfied: click in c:\\users\\dhruvi\\nmenv\\lib\\site-packages (from opendatasets) (8.1.7)\n",
      "Requirement already satisfied: colorama in c:\\users\\dhruvi\\nmenv\\lib\\site-packages (from click->opendatasets) (0.4.6)\n",
      "Requirement already satisfied: six>=1.10 in c:\\users\\dhruvi\\nmenv\\lib\\site-packages (from kaggle->opendatasets) (1.16.0)\n",
      "Requirement already satisfied: certifi>=2023.7.22 in c:\\users\\dhruvi\\nmenv\\lib\\site-packages (from kaggle->opendatasets) (2024.2.2)\n",
      "Requirement already satisfied: python-dateutil in c:\\users\\dhruvi\\nmenv\\lib\\site-packages (from kaggle->opendatasets) (2.8.2)\n",
      "Requirement already satisfied: requests in c:\\users\\dhruvi\\nmenv\\lib\\site-packages (from kaggle->opendatasets) (2.31.0)\n",
      "Collecting python-slugify (from kaggle->opendatasets)\n",
      "  Downloading python_slugify-8.0.4-py2.py3-none-any.whl.metadata (8.5 kB)\n",
      "Requirement already satisfied: urllib3 in c:\\users\\dhruvi\\nmenv\\lib\\site-packages (from kaggle->opendatasets) (1.26.18)\n",
      "Requirement already satisfied: bleach in c:\\users\\dhruvi\\nmenv\\lib\\site-packages (from kaggle->opendatasets) (4.1.0)\n",
      "Requirement already satisfied: packaging in c:\\users\\dhruvi\\nmenv\\lib\\site-packages (from bleach->kaggle->opendatasets) (23.1)\n",
      "Requirement already satisfied: webencodings in c:\\users\\dhruvi\\nmenv\\lib\\site-packages (from bleach->kaggle->opendatasets) (0.5.1)\n",
      "Collecting text-unidecode>=1.3 (from python-slugify->kaggle->opendatasets)\n",
      "  Downloading text_unidecode-1.3-py2.py3-none-any.whl.metadata (2.4 kB)\n",
      "Requirement already satisfied: charset-normalizer<4,>=2 in c:\\users\\dhruvi\\nmenv\\lib\\site-packages (from requests->kaggle->opendatasets) (2.0.4)\n",
      "Requirement already satisfied: idna<4,>=2.5 in c:\\users\\dhruvi\\nmenv\\lib\\site-packages (from requests->kaggle->opendatasets) (3.4)\n",
      "Downloading opendatasets-0.1.22-py3-none-any.whl (15 kB)\n",
      "Downloading python_slugify-8.0.4-py2.py3-none-any.whl (10 kB)\n",
      "Downloading text_unidecode-1.3-py2.py3-none-any.whl (78 kB)\n",
      "   ---------------------------------------- 0.0/78.2 kB ? eta -:--:--\n",
      "   ---------------------------------------- 78.2/78.2 kB 4.2 MB/s eta 0:00:00\n",
      "Building wheels for collected packages: kaggle\n",
      "  Building wheel for kaggle (setup.py): started\n",
      "  Building wheel for kaggle (setup.py): finished with status 'done'\n",
      "  Created wheel for kaggle: filename=kaggle-1.6.17-py3-none-any.whl size=105796 sha256=a29be11469f121546d6b0463e0caff6d2ef3f9201131e5c74cf421f6d7fe8636\n",
      "  Stored in directory: c:\\users\\dhruvi\\appdata\\local\\pip\\cache\\wheels\\2b\\af\\a9\\70bffa2773af622d2ebea9c8d407720b86e67bd40c465bf837\n",
      "Successfully built kaggle\n",
      "Installing collected packages: text-unidecode, python-slugify, kaggle, opendatasets\n",
      "Successfully installed kaggle-1.6.17 opendatasets-0.1.22 python-slugify-8.0.4 text-unidecode-1.3\n"
     ]
    }
   ],
   "source": [
    "!pip install opendatasets"
   ]
  },
  {
   "cell_type": "code",
   "execution_count": 5,
   "metadata": {},
   "outputs": [
    {
     "name": "stdout",
     "output_type": "stream",
     "text": [
      "Please provide your Kaggle credentials to download this dataset. Learn more: http://bit.ly/kaggle-creds\n",
      "Your Kaggle username:"
     ]
    },
    {
     "name": "stdin",
     "output_type": "stream",
     "text": [
      "  namratamewada\n"
     ]
    },
    {
     "name": "stdout",
     "output_type": "stream",
     "text": [
      "Your Kaggle Key:"
     ]
    },
    {
     "name": "stdin",
     "output_type": "stream",
     "text": [
      "  ········\n"
     ]
    },
    {
     "name": "stdout",
     "output_type": "stream",
     "text": [
      "Dataset URL: https://www.kaggle.com/datasets/salader/dogs-vs-cats\n",
      "Downloading dogs-vs-cats.zip to .\\dogs-vs-cats\n"
     ]
    },
    {
     "name": "stderr",
     "output_type": "stream",
     "text": [
      "100%|█████████████████████████████████████████████████████████████████████████████| 1.06G/1.06G [04:59<00:00, 3.81MB/s]\n"
     ]
    },
    {
     "name": "stdout",
     "output_type": "stream",
     "text": [
      "\n"
     ]
    }
   ],
   "source": [
    "import opendatasets as od \n",
    "import pandas \n",
    "\n",
    "od.download(\"https://www.kaggle.com/datasets/salader/dogs-vs-cats\") \n"
   ]
  },
  {
   "cell_type": "code",
   "execution_count": 38,
   "metadata": {
    "id": "AdvF_OqEtpQJ"
   },
   "outputs": [],
   "source": [
    "# Function to load images and labels\n",
    "def load_images_from_folder(folder, label):\n",
    "    features = []\n",
    "    labels = []\n",
    "    for filename in os.listdir(folder):\n",
    "        img_path = os.path.join(folder, filename)\n",
    "        img = cv2.imread(img_path)\n",
    "        if img is not None:\n",
    "           img_resize = cv2.resize(img, (50,50))\n",
    "           img_normalized = img_resize / 255.0\n",
    "           image_flatten = img_normalized.flatten()\n",
    "           features.append(image_flatten)\n",
    "           labels.append(label)\n",
    "    return features, labels"
   ]
  },
  {
   "cell_type": "code",
   "execution_count": 39,
   "metadata": {
    "id": "FjM1B12wtpMv"
   },
   "outputs": [],
   "source": [
    "# Load training data\n",
    "train_cats, train_labels_cats = load_images_from_folder('dogs-vs-cats/train/cats', 0)\n",
    "train_dogs, train_labels_dogs = load_images_from_folder('dogs-vs-cats/train/dogs', 1)"
   ]
  },
  {
   "cell_type": "code",
   "execution_count": 40,
   "metadata": {
    "id": "hbrnvBa2tpKR"
   },
   "outputs": [],
   "source": [
    "# Combine cat and dog training data\n",
    "X_train = np.array(train_cats + train_dogs)\n",
    "y_train = np.array(train_labels_cats + train_labels_dogs)"
   ]
  },
  {
   "cell_type": "code",
   "execution_count": 41,
   "metadata": {
    "id": "M4hhdG8UtpFG"
   },
   "outputs": [],
   "source": [
    "# Load test data\n",
    "test_cats, test_labels_cats = load_images_from_folder('dogs-vs-cats/test/cats', 0)\n",
    "test_dogs, test_labels_dogs = load_images_from_folder('dogs-vs-cats/test/dogs', 1)"
   ]
  },
  {
   "cell_type": "code",
   "execution_count": 42,
   "metadata": {
    "id": "r5eNBdM5tpBn"
   },
   "outputs": [],
   "source": [
    "# Combine cat and dog test data\n",
    "X_test = np.array(test_cats + test_dogs)\n",
    "y_test = np.array(test_labels_cats + test_labels_dogs)"
   ]
  },
  {
   "cell_type": "code",
   "execution_count": 43,
   "metadata": {
    "id": "BrCgjFqDzcMT"
   },
   "outputs": [],
   "source": [
    "# PCA, SVM, & Pipeline\n",
    "n_components = 0.8\n",
    "pca = PCA(n_components=n_components)\n",
    "svm = SVC()\n",
    "pca = PCA(n_components=n_components, random_state=42)\n",
    "pipeline = Pipeline([\n",
    "    ('pca', pca),\n",
    "    ('svm', svm)\n",
    "])"
   ]
  },
  {
   "cell_type": "code",
   "execution_count": 44,
   "metadata": {
    "id": "vKuXsuHLzj3J"
   },
   "outputs": [],
   "source": [
    "param_grid = {\n",
    "    'pca__n_components': [2, 1, 0.9, 0.8],\n",
    "    'svm__kernel': ['linear', 'rbf', 'poly', 'sigmoid'],\n",
    "}"
   ]
  },
  {
   "cell_type": "code",
   "execution_count": 14,
   "metadata": {
    "colab": {
     "base_uri": "https://localhost:8080/"
    },
    "id": "TxPL-XTuzmnh",
    "outputId": "3b4d4d57-c633-4348-98e4-cf2a7c5bddc6"
   },
   "outputs": [
    {
     "name": "stdout",
     "output_type": "stream",
     "text": [
      "Fitting 3 folds for each of 16 candidates, totalling 48 fits\n",
      "[CV 1/3] END pca__n_components=2, svm__kernel=linear;, score=0.525 total time= 1.2min\n",
      "[CV 2/3] END pca__n_components=2, svm__kernel=linear;, score=0.531 total time=  60.0s\n",
      "[CV 3/3] END pca__n_components=2, svm__kernel=linear;, score=0.527 total time=  55.0s\n",
      "[CV 1/3] END pca__n_components=2, svm__kernel=rbf;, score=0.564 total time=  50.4s\n",
      "[CV 2/3] END pca__n_components=2, svm__kernel=rbf;, score=0.565 total time=  49.9s\n",
      "[CV 3/3] END pca__n_components=2, svm__kernel=rbf;, score=0.568 total time=  49.3s\n",
      "[CV 1/3] END pca__n_components=2, svm__kernel=poly;, score=0.481 total time=  38.6s\n",
      "[CV 2/3] END pca__n_components=2, svm__kernel=poly;, score=0.494 total time=  40.0s\n",
      "[CV 3/3] END pca__n_components=2, svm__kernel=poly;, score=0.489 total time=  37.5s\n",
      "[CV 1/3] END pca__n_components=2, svm__kernel=sigmoid;, score=0.499 total time=  28.9s\n",
      "[CV 2/3] END pca__n_components=2, svm__kernel=sigmoid;, score=0.490 total time=  27.1s\n",
      "[CV 3/3] END pca__n_components=2, svm__kernel=sigmoid;, score=0.507 total time=  26.9s\n",
      "[CV 1/3] END pca__n_components=1, svm__kernel=linear;, score=0.515 total time=  39.7s\n",
      "[CV 2/3] END pca__n_components=1, svm__kernel=linear;, score=0.519 total time=  38.7s\n",
      "[CV 3/3] END pca__n_components=1, svm__kernel=linear;, score=0.515 total time=  37.0s\n",
      "[CV 1/3] END pca__n_components=1, svm__kernel=rbf;, score=0.521 total time=  48.5s\n",
      "[CV 2/3] END pca__n_components=1, svm__kernel=rbf;, score=0.522 total time=  46.0s\n",
      "[CV 3/3] END pca__n_components=1, svm__kernel=rbf;, score=0.535 total time=  46.8s\n",
      "[CV 1/3] END pca__n_components=1, svm__kernel=poly;, score=0.499 total time=  30.2s\n",
      "[CV 2/3] END pca__n_components=1, svm__kernel=poly;, score=0.499 total time=  33.8s\n",
      "[CV 3/3] END pca__n_components=1, svm__kernel=poly;, score=0.502 total time=  32.7s\n",
      "[CV 1/3] END pca__n_components=1, svm__kernel=sigmoid;, score=0.501 total time=  24.4s\n",
      "[CV 2/3] END pca__n_components=1, svm__kernel=sigmoid;, score=0.497 total time=  24.2s\n",
      "[CV 3/3] END pca__n_components=1, svm__kernel=sigmoid;, score=0.507 total time=  24.3s\n",
      "[CV 1/3] END pca__n_components=0.9, svm__kernel=linear;, score=0.600 total time=31.0min\n",
      "[CV 2/3] END pca__n_components=0.9, svm__kernel=linear;, score=0.603 total time=23.7min\n",
      "[CV 3/3] END pca__n_components=0.9, svm__kernel=linear;, score=0.605 total time=18.7min\n",
      "[CV 1/3] END pca__n_components=0.9, svm__kernel=rbf;, score=0.664 total time= 4.9min\n",
      "[CV 2/3] END pca__n_components=0.9, svm__kernel=rbf;, score=0.682 total time= 4.9min\n",
      "[CV 3/3] END pca__n_components=0.9, svm__kernel=rbf;, score=0.669 total time= 4.8min\n",
      "[CV 1/3] END pca__n_components=0.9, svm__kernel=poly;, score=0.608 total time= 4.9min\n",
      "[CV 2/3] END pca__n_components=0.9, svm__kernel=poly;, score=0.599 total time= 5.1min\n",
      "[CV 3/3] END pca__n_components=0.9, svm__kernel=poly;, score=0.604 total time= 5.2min\n",
      "[CV 1/3] END pca__n_components=0.9, svm__kernel=sigmoid;, score=0.526 total time= 4.4min\n",
      "[CV 2/3] END pca__n_components=0.9, svm__kernel=sigmoid;, score=0.506 total time= 4.7min\n",
      "[CV 3/3] END pca__n_components=0.9, svm__kernel=sigmoid;, score=0.525 total time= 4.6min\n",
      "[CV 1/3] END pca__n_components=0.8, svm__kernel=linear;, score=0.576 total time= 8.9min\n",
      "[CV 2/3] END pca__n_components=0.8, svm__kernel=linear;, score=0.590 total time= 9.4min\n",
      "[CV 3/3] END pca__n_components=0.8, svm__kernel=linear;, score=0.595 total time= 9.6min\n",
      "[CV 1/3] END pca__n_components=0.8, svm__kernel=rbf;, score=0.656 total time= 5.0min\n",
      "[CV 2/3] END pca__n_components=0.8, svm__kernel=rbf;, score=0.669 total time= 5.4min\n",
      "[CV 3/3] END pca__n_components=0.8, svm__kernel=rbf;, score=0.660 total time= 5.4min\n",
      "[CV 1/3] END pca__n_components=0.8, svm__kernel=poly;, score=0.600 total time= 5.3min\n",
      "[CV 2/3] END pca__n_components=0.8, svm__kernel=poly;, score=0.590 total time= 5.5min\n",
      "[CV 3/3] END pca__n_components=0.8, svm__kernel=poly;, score=0.590 total time= 5.5min\n",
      "[CV 1/3] END pca__n_components=0.8, svm__kernel=sigmoid;, score=0.522 total time= 5.1min\n",
      "[CV 2/3] END pca__n_components=0.8, svm__kernel=sigmoid;, score=0.505 total time= 5.0min\n",
      "[CV 3/3] END pca__n_components=0.8, svm__kernel=sigmoid;, score=0.521 total time= 4.9min\n"
     ]
    }
   ],
   "source": [
    "start_time = time.time()\n",
    "\n",
    "grid_search = GridSearchCV(pipeline, param_grid, cv=3, verbose=4)\n",
    "grid_search.fit(X_train, y_train)\n",
    "\n",
    "end_time = time.time()"
   ]
  },
  {
   "cell_type": "code",
   "execution_count": 45,
   "metadata": {
    "id": "RQYgvmbMzqGi"
   },
   "outputs": [
    {
     "name": "stdout",
     "output_type": "stream",
     "text": [
      "Best Parameters:  {'pca__n_components': 0.9, 'svm__kernel': 'rbf'}\n",
      "Best Score:  0.671649863351417\n"
     ]
    }
   ],
   "source": [
    "best_pipeline = grid_search.best_estimator_\n",
    "best_params = grid_search.best_params_\n",
    "best_score = grid_search.best_score_\n",
    "\n",
    "print(\"Best Parameters: \", best_params)\n",
    "print(\"Best Score: \", best_score)"
   ]
  },
  {
   "cell_type": "code",
   "execution_count": 46,
   "metadata": {
    "id": "ovt-uX3Q0a05"
   },
   "outputs": [
    {
     "name": "stdout",
     "output_type": "stream",
     "text": [
      "Accuracy: 0.693\n"
     ]
    }
   ],
   "source": [
    "# Evaluation on test dataset\n",
    "accuracy = best_pipeline.score(X_test, y_test)\n",
    "print(\"Accuracy:\", accuracy)"
   ]
  },
  {
   "cell_type": "code",
   "execution_count": 47,
   "metadata": {
    "id": "k4eKvHRl0axW"
   },
   "outputs": [
    {
     "name": "stdout",
     "output_type": "stream",
     "text": [
      "Classification Report:\n",
      "               precision    recall  f1-score   support\n",
      "\n",
      "         Cat       0.69      0.71      0.70      2500\n",
      "         Dog       0.70      0.68      0.69      2500\n",
      "\n",
      "    accuracy                           0.69      5000\n",
      "   macro avg       0.69      0.69      0.69      5000\n",
      "weighted avg       0.69      0.69      0.69      5000\n",
      "\n"
     ]
    }
   ],
   "source": [
    "y_pred = best_pipeline.predict(X_test)\n",
    "\n",
    "# classification report\n",
    "target_names = ['Cat', 'Dog']\n",
    "classification_rep = classification_report(y_test, y_pred, target_names=target_names)\n",
    "print(\"Classification Report:\\n\", classification_rep)"
   ]
  },
  {
   "cell_type": "code",
   "execution_count": 63,
   "metadata": {
    "id": "8ndDq9ll0au5"
   },
   "outputs": [
    {
     "name": "stdout",
     "output_type": "stream",
     "text": [
      "[[1770  730]\n",
      " [ 805 1695]]\n"
     ]
    }
   ],
   "source": [
    "# Confusion matrix\n",
    "cm = confusion_matrix(y_test, y_pred)\n",
    "print(cm)"
   ]
  },
  {
   "cell_type": "code",
   "execution_count": 62,
   "metadata": {},
   "outputs": [
    {
     "name": "stdout",
     "output_type": "stream",
     "text": [
      "3.8.0\n"
     ]
    }
   ],
   "source": [
    "print(matplotlib.__version__)"
   ]
  },
  {
   "cell_type": "code",
   "execution_count": null,
   "metadata": {},
   "outputs": [],
   "source": []
  }
 ],
 "metadata": {
  "accelerator": "TPU",
  "colab": {
   "gpuType": "V28",
   "provenance": []
  },
  "kernelspec": {
   "display_name": "Python 3 (ipykernel)",
   "language": "python",
   "name": "python3"
  },
  "language_info": {
   "codemirror_mode": {
    "name": "ipython",
    "version": 3
   },
   "file_extension": ".py",
   "mimetype": "text/x-python",
   "name": "python",
   "nbconvert_exporter": "python",
   "pygments_lexer": "ipython3",
   "version": "3.9.18"
  }
 },
 "nbformat": 4,
 "nbformat_minor": 4
}
